{
 "cells": [
  {
   "cell_type": "code",
   "execution_count": 2,
   "id": "1c8afb10",
   "metadata": {},
   "outputs": [],
   "source": [
    "import pandas as pd\n",
    "import numpy as np\n",
    "import seaborn as sns\n",
    "sns.set(style=\"whitegrid\")\n",
    "import matplotlib.pyplot as plt\n",
    "%matplotlib inline\n",
    "import warnings"
   ]
  },
  {
   "cell_type": "code",
   "execution_count": 3,
   "id": "f5cece18",
   "metadata": {},
   "outputs": [],
   "source": [
    "from sklearn.model_selection import train_test_split\n",
    "from sklearn.ensemble import RandomForestClassifier\n",
    "from sklearn.metrics import roc_auc_score"
   ]
  },
  {
   "cell_type": "markdown",
   "id": "cc18ccb3",
   "metadata": {},
   "source": [
    "##### Histogram for number of  empty cells in an instance"
   ]
  },
  {
   "cell_type": "markdown",
   "id": "4be865e3",
   "metadata": {},
   "source": [
    "df -- some dataframe"
   ]
  },
  {
   "cell_type": "code",
   "execution_count": null,
   "id": "1c0deb03",
   "metadata": {},
   "outputs": [],
   "source": [
    "feature_cols = [col for col in df.columns if 'feature' in col]\n",
    "\n",
    "for col in feature_cols:\n",
    "    missing = df[col].isnull()\n",
    "    num_missing = np.sum(missing)\n",
    "    \n",
    "    if num_missing > 0:  \n",
    "        print('created missing indicator for: {}'.format(col))\n",
    "        df['{}_ismissing'.format(col)] = missing\n",
    "\n",
    "ismissing_cols = [col for col in df.columns if 'ismissing' in col]\n",
    "\n",
    "df['num_missing'] = df[ismissing_cols].sum(axis=1)\n",
    "\n",
    "df['num_missing'].value_counts().reset_index().sort_values(by='index').plot.bar(x='index', y='num_missing')"
   ]
  },
  {
   "cell_type": "markdown",
   "id": "b2086e32",
   "metadata": {},
   "source": [
    "##### An approach for working with outliers"
   ]
  },
  {
   "cell_type": "markdown",
   "id": "9b1eadb2",
   "metadata": {},
   "source": [
    "df, df_ -- some dataframe"
   ]
  },
  {
   "cell_type": "markdown",
   "id": "25472b2b",
   "metadata": {},
   "source": [
    "target -- target column"
   ]
  },
  {
   "cell_type": "markdown",
   "id": "0b83b4df",
   "metadata": {},
   "source": [
    "col -- some column"
   ]
  },
  {
   "cell_type": "markdown",
   "id": "4a34fb48",
   "metadata": {},
   "source": [
    "perc -- percentile"
   ]
  },
  {
   "cell_type": "code",
   "execution_count": null,
   "id": "4e566834",
   "metadata": {},
   "outputs": [],
   "source": [
    "def one_factor_analysis_gini(df_, target, col, left_perc=0, right_perc=100):\n",
    "\n",
    "    df = df_.copy()\n",
    "    df = df[[col, target]]\n",
    "    l_perc = np.percentile(df[col], left_perc)\n",
    "    r_perc = np.percentile(df[col], right_perc)\n",
    "    df = df[df[col] >= l_perc]\n",
    "    df = df[df[col] <= r_perc]\n",
    "    \n",
    "    y = df[target]\n",
    "    df = df.drop(target, axis=1)\n",
    "\n",
    "    test_size = 0.3\n",
    "    X_train, X_test, y_train, y_test = train_test_split(df, y,\n",
    "                                                        test_size=test_size,\n",
    "                                                        random_state=123)\n",
    "    if len(y_test) == y_test.sum() or y_test.sum() == 0:\n",
    "        return 0\n",
    "    clf = RandomForestClassifier(random_state=123, max_depth = 10)\n",
    "    clf = clf.fit(X_train, y_train)\n",
    "\n",
    "    roc_auc = roc_auc_score(y_test, clf.predict_proba(X_test)[:,1])\n",
    "    return 2*roc_auc-1 \n"
   ]
  },
  {
   "cell_type": "code",
   "execution_count": null,
   "id": "46378ee5",
   "metadata": {},
   "outputs": [],
   "source": [
    "def box_plots(data, features):\n",
    "    \n",
    "    fig = plt.figure(figsize=(20,94))\n",
    "\n",
    "    for  i, col in enumerate(features):\n",
    "        \n",
    "        f = data[col]\n",
    "        \n",
    "        ax = fig.add_subplot(len(features)//5 + 1, 5, i+1)\n",
    "        data.boxplot(column = col)\n",
    "        \n",
    "        plt.xlabel(col, fontsize=17)\n",
    "        plt.tick_params(axis='x', which='major', labelsize=9, pad=-2)\n",
    "        plt.tick_params(axis='y', which='major', labelsize=12)"
   ]
  },
  {
   "cell_type": "code",
   "execution_count": null,
   "id": "38ff616e",
   "metadata": {},
   "outputs": [],
   "source": [
    "box_plots(df, features)"
   ]
  },
  {
   "cell_type": "code",
   "execution_count": null,
   "id": "d1a04f4b",
   "metadata": {},
   "outputs": [],
   "source": [
    "first_partition = np.arange(90, 101, 1)"
   ]
  },
  {
   "cell_type": "code",
   "execution_count": null,
   "id": "d1569d69",
   "metadata": {},
   "outputs": [],
   "source": [
    "for feat in features:\n",
    "    \n",
    "    best_gini = 0\n",
    "    \n",
    "    for perc in first_partition:\n",
    "        gini = one_factor_analysis_gini(df, 'target', feat, right_perc = perc)\n",
    "        if gini >= best_gini:\n",
    "            best_gini = gini\n",
    "            best_perc_right = perc\n",
    "            \n",
    "    if best_perc_right == 100:\n",
    "        second_partition = np.arange(99.1, 99.9, 0.1)\n",
    "    else:\n",
    "        second_partition = np.arange(best_perc_right-0.9, best_perc_right+0.9, 0.1)\n",
    "    \n",
    "    for perc in second_partition:\n",
    "        gini = one_factor_analysis_gini(df, 'target', feat, right_perc = perc)\n",
    "        if gini > best_gini:\n",
    "            best_gini = gini\n",
    "            best_perc_right = perc\n",
    "    \n",
    "    temp_frame = pd.DataFrame({'feature': [feat],  \n",
    "                                'right_perc': [best_perc_right]})\n",
    "    high_perc_df = high_perc_df.append(temp_frame)"
   ]
  },
  {
   "cell_type": "code",
   "execution_count": null,
   "id": "051562da",
   "metadata": {},
   "outputs": [],
   "source": [
    "new_df = df.copy()\n",
    "\n",
    "for feature in high_perc_df.index.values:\n",
    "    perc = high_perc_df.loc[feature, 'right_perc']\n",
    "    change_val = np.percentile(new_df[feature], perc)\n",
    "    new_df[feature] = np.where(new_df[feature]>change_val, change_val, new_df[feature])"
   ]
  },
  {
   "cell_type": "code",
   "execution_count": null,
   "id": "9782dbbd",
   "metadata": {},
   "outputs": [],
   "source": [
    "first_partition = np.arange(0, 6, 1)"
   ]
  },
  {
   "cell_type": "code",
   "execution_count": null,
   "id": "9d7f8528",
   "metadata": {},
   "outputs": [],
   "source": [
    "for feat in features:\n",
    "    \n",
    "    best_gini = 0\n",
    "    \n",
    "    for perc in first_partition:\n",
    "        gini = one_factor_analysis_gini(new_df, 'target', feat, left_perc = perc)\n",
    "        if gini > best_gini:\n",
    "            best_gini = gini\n",
    "            best_perc_left = perc\n",
    "            \n",
    "    if best_perc_left == 0:\n",
    "        second_partition = np.arange(0, 1, 0.1)\n",
    "    else:\n",
    "        second_partition = np.arange(best_perc_left-0.9, best_perc_left+0.9, 0.1)\n",
    "    \n",
    "    for perc in second_partition:\n",
    "        gini = one_factor_analysis_gini(new_df, 'target', feat, left_perc = perc)\n",
    "        if gini > best_gini:\n",
    "            best_gini = gini\n",
    "            best_perc_left = perc\n",
    "    \n",
    "    temp_frame = pd.DataFrame({'feature': [feat],  \n",
    "                                'left_perc': [best_perc_left]})\n",
    "    low_perc_df = low_perc_df.append(temp_frame)"
   ]
  },
  {
   "cell_type": "code",
   "execution_count": null,
   "id": "2b1144d5",
   "metadata": {},
   "outputs": [],
   "source": [
    "for feature in low_perc_df.index.values:\n",
    "    \n",
    "    perc = low_perc_df.loc[feature, 'left_perc']\n",
    "    change_val = np.percentile(new_df[feature], perc)\n",
    "    new_df[feature] = np.where(new_df[feature]<change_val, change_val, new_df[feature])"
   ]
  }
 ],
 "metadata": {
  "kernelspec": {
   "display_name": "Python 3",
   "language": "python",
   "name": "python3"
  },
  "language_info": {
   "codemirror_mode": {
    "name": "ipython",
    "version": 3
   },
   "file_extension": ".py",
   "mimetype": "text/x-python",
   "name": "python",
   "nbconvert_exporter": "python",
   "pygments_lexer": "ipython3",
   "version": "3.8.3"
  }
 },
 "nbformat": 4,
 "nbformat_minor": 5
}
