{
 "cells": [
  {
   "cell_type": "code",
   "execution_count": null,
   "id": "3cc5eb05",
   "metadata": {},
   "outputs": [],
   "source": [
    "import pandas as pd\n",
    "import numpy as np\n",
    "import warnings"
   ]
  },
  {
   "cell_type": "code",
   "execution_count": null,
   "id": "fce7a6db",
   "metadata": {},
   "outputs": [],
   "source": [
    "from sklearn.model_selection import train_test_split\n",
    "from sklearn.model_selection import RandomizedSearchCV\n",
    "from sklearn.model_selection import RepeatedStratifiedKFold\n",
    "from lightgbm import LGBMClassifier\n",
    "from catboost import CatBoostClassifier"
   ]
  },
  {
   "cell_type": "markdown",
   "id": "6c1b38c3",
   "metadata": {},
   "source": [
    "##### CatBoostClassifier"
   ]
  },
  {
   "cell_type": "code",
   "execution_count": null,
   "id": "0368bfee",
   "metadata": {},
   "outputs": [],
   "source": [
    "SEED = 56\n",
    "X_train, X_test, y_train, y_test = train_test_split(X, y, stratify=y, test_size=0.35, random_state=SEED)"
   ]
  },
  {
   "cell_type": "code",
   "execution_count": null,
   "id": "323eb2a5",
   "metadata": {},
   "outputs": [],
   "source": [
    "params = {\n",
    "                  # bootstrap bernoulli\n",
    "                  'loss_function':'Logloss',   \n",
    "                  'eval_metric':'AUC',                                     \n",
    "                  'custom_loss': ['AUC', 'Precision', 'F1'],\n",
    "                  'random_seed': SEED,   \n",
    "                  'l2_leaf_reg': 2,\n",
    "                  'learning_rate': 0.03,\n",
    "                  'max_depth': 10,\n",
    "                  'iterations': 1500,\n",
    "                  'boosting_type': 'Ordered', \n",
    "                  'one_hot_max_size': 2000\n",
    "         }\n",
    "\n",
    "cat_features=['MARKET_CODE']"
   ]
  },
  {
   "cell_type": "code",
   "execution_count": null,
   "id": "c508ed32",
   "metadata": {},
   "outputs": [],
   "source": [
    "cb_model = CatBoostClassifier(**params)\n",
    "cb_model.fit(X_train, y_train, \n",
    "             cat_features = cat_features, \n",
    "             eval_set=(X_test, y_test),\n",
    "             verbose = 250,\n",
    "             plot=True,\n",
    "             use_best_model=True                \n",
    "             )"
   ]
  },
  {
   "cell_type": "code",
   "execution_count": null,
   "id": "74d6e9e5",
   "metadata": {},
   "outputs": [],
   "source": [
    "predictions = cb_model.predict(X_test, prediction_type='Probability')[:,1]\n",
    "roc_auc_score(y_test, predictions)"
   ]
  },
  {
   "cell_type": "code",
   "execution_count": null,
   "id": "651d8d4b",
   "metadata": {},
   "outputs": [],
   "source": [
    "feature_importance_df = cb_model.get_feature_importance(prettified=True)"
   ]
  },
  {
   "cell_type": "code",
   "execution_count": null,
   "id": "c85eea34",
   "metadata": {},
   "outputs": [],
   "source": [
    "cb_model.save_model('my_cb_model.bin',\n",
    "           format=\"cbm\",\n",
    "           export_parameters=None,\n",
    "           pool=None)"
   ]
  },
  {
   "cell_type": "markdown",
   "id": "cfd03406",
   "metadata": {},
   "source": [
    "##### RandomizedSearchCV"
   ]
  },
  {
   "cell_type": "code",
   "execution_count": null,
   "id": "ac6f4992",
   "metadata": {},
   "outputs": [],
   "source": [
    "X_train, X_test, y_train, y_test = train_test_split(X, y, test_size = 0.3, stratify=y, random_state = 123)"
   ]
  },
  {
   "cell_type": "code",
   "execution_count": null,
   "id": "c58b6912",
   "metadata": {},
   "outputs": [],
   "source": [
    "model = LGBMClassifier()"
   ]
  },
  {
   "cell_type": "code",
   "execution_count": null,
   "id": "d88821d3",
   "metadata": {},
   "outputs": [],
   "source": [
    "cv = RepeatedStratifiedKFold(n_splits=8, n_repeats=2, random_state=123)"
   ]
  },
  {
   "cell_type": "code",
   "execution_count": null,
   "id": "2821bcb6",
   "metadata": {},
   "outputs": [],
   "source": [
    "trees = [50, 150, 300, 500, 800, 1500, 2500, 3500, 5000]\n",
    "\n",
    "depth = [5,10,25,60]\n",
    "\n",
    "l_rate = [0.001, 0.1, 1.0]\n",
    "\n",
    "boosting_type = ['gbdt', 'dart']\n",
    "\n",
    "params = {'max_depth': depth, 'boosting_type': boosting_type, 'n_estimators': trees, 'learning_rate': l_rate}"
   ]
  },
  {
   "cell_type": "code",
   "execution_count": null,
   "id": "95f4843e",
   "metadata": {},
   "outputs": [],
   "source": [
    "rs_cv = RandomizedSearchCV(model, params, n_iter = 65, n_jobs=-1, random_state = 123, cv=cv)\n",
    "rs_cv.fit(X_train, y_train)"
   ]
  },
  {
   "cell_type": "code",
   "execution_count": null,
   "id": "4654cb81",
   "metadata": {},
   "outputs": [],
   "source": [
    "best_estimator = rs_cv.best_estimator_\n",
    "best_estimator.score(X_test, y_test)"
   ]
  }
 ],
 "metadata": {
  "kernelspec": {
   "display_name": "Python 3",
   "language": "python",
   "name": "python3"
  },
  "language_info": {
   "codemirror_mode": {
    "name": "ipython",
    "version": 3
   },
   "file_extension": ".py",
   "mimetype": "text/x-python",
   "name": "python",
   "nbconvert_exporter": "python",
   "pygments_lexer": "ipython3",
   "version": "3.8.3"
  }
 },
 "nbformat": 4,
 "nbformat_minor": 5
}
